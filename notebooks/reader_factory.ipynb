{
 "cells": [
  {
   "cell_type": "code",
   "execution_count": null,
   "id": "a3287f78",
   "metadata": {},
   "outputs": [],
   "source": [
    "class DataSource():\n",
    "    \"\"\"\n",
    "    Abstract Class\n",
    "    \"\"\"\n",
    "\n",
    "    def __init__(self, path):\n",
    "        self.path = path\n",
    "\n",
    "    def get_df(self):\n",
    "        \"\"\"\n",
    "        Abstract method, it will function will be defined in sub classes\n",
    "        \"\"\"\n",
    "        raise NotImplementedError(\"This method has not been implemented yet.\")"
   ]
  },
  {
   "cell_type": "code",
   "execution_count": null,
   "id": "db0cb432",
   "metadata": {},
   "outputs": [],
   "source": [
    "class CSVDataSource(DataSource):\n",
    "\n",
    "    def get_df(self):\n",
    "        return spark.read.format(\"csv\").option(\"header\", True).load(self.path)\n",
    "    \n",
    "class ParquetDataSource(DataSource):\n",
    "\n",
    "    def get_df(self):\n",
    "        return spark.read.format(\"parquet\").load(self.path)\n",
    "    \n",
    "class DeltaDataSource(DataSource):\n",
    "\n",
    "    def get_df(self):\n",
    "        return spark.read.table(self.path)"
   ]
  },
  {
   "cell_type": "code",
   "execution_count": null,
   "id": "40409ce3",
   "metadata": {},
   "outputs": [],
   "source": [
    "data_sources = {\n",
    "    \"csv\": CSVDataSource,\n",
    "    \"parquet\": ParquetDataSource,\n",
    "    \"delta\": DeltaDataSource\n",
    "}\n",
    "\n",
    "from pathlib import Path\n",
    "\n",
    "def get_data_source(file_path, data_type=None):\n",
    "    if not data_type:\n",
    "        extension = Path(file_path).suffix\n",
    "        data_type = extension[1:]\n",
    "\n",
    "    data_source = data_sources.get(data_type, None)\n",
    "    if not data_source:\n",
    "        return NotImplementedError(f\"{data_type.upper()} Data Source is not implemented!\")\n",
    "    return data_source(file_path)"
   ]
  }
 ],
 "metadata": {
  "language_info": {
   "name": "python"
  }
 },
 "nbformat": 4,
 "nbformat_minor": 5
}
