{
 "cells": [
  {
   "cell_type": "code",
   "execution_count": null,
   "id": "b5bf8b4f",
   "metadata": {},
   "outputs": [],
   "source": [
    "class DataSink():\n",
    "    \"\"\"\n",
    "    Abstract Class\n",
    "    \"\"\"\n",
    "    def __init__(self, df, path, method, partition_by = False, params=None):\n",
    "        self.df = df\n",
    "        self.path = path\n",
    "        self.method = method\n",
    "        self.partition_by = partition_by\n",
    "        self.params = params\n",
    "\n",
    "    def load_df(self):\n",
    "        \"\"\"\n",
    "        Abstract method, it will function will be defined in sub classes\n",
    "        \"\"\"\n",
    "        raise NotImplementedError(\"This method has not been implemented yet.\")"
   ]
  },
  {
   "cell_type": "code",
   "execution_count": null,
   "id": "2eaa18e7",
   "metadata": {},
   "outputs": [],
   "source": [
    "class LoadToDBFS(DataSink):\n",
    "\n",
    "    def load_df(self):\n",
    "        if not self.partition_by:\n",
    "            self.df.write.mode(self.method).save(self.path)\n",
    "            return\n",
    "\n",
    "        partition_by_columns = self.params.get(\n",
    "            \"partition_by_columns\"\n",
    "        )\n",
    "        self.df.write.mode(self.method).partitionBy(*partition_by_columns).save(self.path)\n",
    "\n",
    "class LoadToDelta(DataSink):\n",
    "    def load_df(self):\n",
    "        self.df.write.format(\"delta\").mode(self.method).saveAsTable(self.path)"
   ]
  },
  {
   "cell_type": "code",
   "execution_count": null,
   "id": "01de4a87",
   "metadata": {},
   "outputs": [],
   "source": [
    "sink_sources = {\n",
    "    \"dbfs\": LoadToDBFS,\n",
    "    \"delta\": LoadToDelta\n",
    "}\n",
    "\n",
    "def get_sink_source(df, sink_type, path, method, partition_by=False, params=None):\n",
    "    sink_source = sink_sources.get(sink_type, None)\n",
    "\n",
    "    if not sink_source:\n",
    "        raise NotImplementedError(f\"Sink Type `{sink_type}` is not implemented!\")\n",
    "\n",
    "    return sink_source(\n",
    "        df=df,\n",
    "        path=path,\n",
    "        method=method,\n",
    "        partition_by=partition_by,\n",
    "        params=params\n",
    "    )\n"
   ]
  }
 ],
 "metadata": {
  "language_info": {
   "name": "python"
  }
 },
 "nbformat": 4,
 "nbformat_minor": 5
}
