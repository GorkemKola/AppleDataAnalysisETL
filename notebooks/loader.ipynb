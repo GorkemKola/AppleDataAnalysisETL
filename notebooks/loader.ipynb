{
 "cells": [
  {
   "cell_type": "code",
   "execution_count": null,
   "id": "c7c2059f",
   "metadata": {},
   "outputs": [],
   "source": [
    "%run \"./loader_factory\""
   ]
  },
  {
   "cell_type": "code",
   "execution_count": null,
   "id": "6d9f9eb9",
   "metadata": {},
   "outputs": [],
   "source": [
    " class Loader():\n",
    "    \"\"\"\n",
    "    Abstract\n",
    "    \"\"\"\n",
    "    def __init__(self, df):\n",
    "        self.df = df\n",
    "     \n",
    "    def sink(self):\n",
    "        raise NotImplementedError(\"Sinking method is not implemented!!!\")"
   ]
  },
  {
   "cell_type": "code",
   "execution_count": null,
   "id": "7e36d0d5",
   "metadata": {},
   "outputs": [],
   "source": [
    "class AirpodsAfterIphonesLoader(Loader):\n",
    "    def sink(self, path=\"dbfs:/FileStore/tables/airpods_after_iphones.csv\", method=\"overwrite\"):\n",
    "        sink_source = get_sink_source(\n",
    "            sink_type=\"dbfs\",\n",
    "            df=self.df,\n",
    "            path=path,\n",
    "            method=method\n",
    "        )\n",
    "        sink_source.load_df()"
   ]
  },
  {
   "cell_type": "code",
   "execution_count": null,
   "id": "48ad2d8e",
   "metadata": {},
   "outputs": [],
   "source": [
    "class AirpodsAndIphonesLoader(Loader):\n",
    "    def sink(self, partition_by=True, path=\"dbfs:/FileStore/tables/airpods_and_iphones\", method=\"overwrite\"):\n",
    "        params = {\n",
    "            \"partition_by_columns\": [\"location\"]\n",
    "        }\n",
    "        sink_source = get_sink_source(\n",
    "            sink_type=\"dbfs\",\n",
    "            df=self.df,\n",
    "            path=path,\n",
    "            method=method,\n",
    "            partition_by=partition_by,\n",
    "            params=params\n",
    "        )\n",
    "        sink_source.load_df()\n",
    "\n",
    "        "
   ]
  },
  {
   "cell_type": "code",
   "execution_count": null,
   "id": "c41a6d1c",
   "metadata": {},
   "outputs": [],
   "source": [
    "class ProductsAfterInitialPurchaseLoader(Loader):\n",
    "    def sink(self, path=\"default.products_after_initial_purchase\", method=\"overwrite\"):\n",
    "        sink_source = get_sink_source(\n",
    "            sink_type=\"delta\",\n",
    "            df=self.df,\n",
    "            path=path,\n",
    "            method=method,\n",
    "        )\n",
    "        sink_source.load_df()"
   ]
  }
 ],
 "metadata": {
  "language_info": {
   "name": "python"
  }
 },
 "nbformat": 4,
 "nbformat_minor": 5
}
