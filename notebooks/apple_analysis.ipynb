{
 "cells": [
  {
   "cell_type": "code",
   "execution_count": null,
   "id": "27debfcc",
   "metadata": {},
   "outputs": [],
   "source": [
    "%run \"./extractor\""
   ]
  },
  {
   "cell_type": "code",
   "execution_count": null,
   "id": "6038e307",
   "metadata": {},
   "outputs": [],
   "source": [
    "%run \"./transformer\""
   ]
  },
  {
   "cell_type": "code",
   "execution_count": null,
   "id": "1eb83c16",
   "metadata": {},
   "outputs": [],
   "source": [
    "%run \"./loader\""
   ]
  },
  {
   "cell_type": "code",
   "execution_count": null,
   "id": "07469084",
   "metadata": {},
   "outputs": [],
   "source": [
    "class AirpodsAfterIphonesWorkFlow():\n",
    "\n",
    "    def __init__(self):\n",
    "        pass\n",
    "    \n",
    "\n",
    "    def runner(self):\n",
    "        # Step 1: extract all required data from different sources\n",
    "        extractor = AirpodsAfterIphonesExtractor()\n",
    "        input_dfs = extractor.extract()\n",
    "\n",
    "        # Step 2: Retrieve Airpods after iPhones\n",
    "        transformer = AirpodsAfterIphonesTransformer()\n",
    "        transformed_df = transformer.transform(input_dfs)\n",
    "\n",
    "        # Step 3: Load\n",
    "        loader = AirpodsAfterIphonesLoader(\n",
    "            transformed_df\n",
    "        )\n",
    "        loader.sink()"
   ]
  },
  {
   "cell_type": "code",
   "execution_count": null,
   "id": "bb8c582d",
   "metadata": {},
   "outputs": [],
   "source": [
    "airpods_after_iphones_workflow = AirpodsAfterIphonesWorkFlow()\n",
    "airpods_after_iphones_workflow.runner()"
   ]
  },
  {
   "cell_type": "code",
   "execution_count": null,
   "id": "98bc99f1",
   "metadata": {},
   "outputs": [],
   "source": [
    "class AirpodsAndIphonesWorkFlow():\n",
    "\n",
    "    def __init__(self):\n",
    "        pass\n",
    "    \n",
    "\n",
    "    def runner(self):\n",
    "        # Step 1: extract all required data from different sources\n",
    "        extractor = AirpodsAndIphonesExtractor()\n",
    "        input_dfs = extractor.extract()\n",
    "        \n",
    "        # Step 2: Retrieve Only Airpods and iPhones\n",
    "        transformer = AirpodsAndIphonesTransformer()\n",
    "        transformed_df = transformer.transform(input_dfs)\n",
    "\n",
    "        # Step 3: Load Table\n",
    "        loader = AirpodsAndIphonesLoader(\n",
    "            transformed_df\n",
    "        )\n",
    "        loader.sink()"
   ]
  },
  {
   "cell_type": "code",
   "execution_count": null,
   "id": "6ee9fc84",
   "metadata": {},
   "outputs": [],
   "source": [
    "airpods_and_iphones_workflow = AirpodsAndIphonesWorkFlow()\n",
    "airpods_and_iphones_workflow.runner()"
   ]
  },
  {
   "cell_type": "code",
   "execution_count": null,
   "id": "8355252c",
   "metadata": {},
   "outputs": [],
   "source": [
    "class ProductsAfterInitialPurchaseWorkFlow():\n",
    "\n",
    "    def __init__(self):\n",
    "        pass\n",
    "    \n",
    "\n",
    "    def runner(self):\n",
    "        # Step 1: extract all required data from different sources\n",
    "        extractor = ProductsAfterInitialPurchaseExtractor()\n",
    "        input_dfs = extractor.extract()\n",
    "\n",
    "        # Step 2: Retrieve Only Airpods and iPhones\n",
    "        transformer = ProductsAfterInitialPurchaseTransformer()\n",
    "        transformed_df = transformer.transform(input_dfs)\n",
    "\n",
    "        # Step 3: Load Table\n",
    "        loader = ProductsAfterInitialPurchaseLoader(\n",
    "            transformed_df\n",
    "        )\n",
    "        loader.sink()"
   ]
  },
  {
   "cell_type": "code",
   "execution_count": null,
   "id": "7ec00c5a",
   "metadata": {},
   "outputs": [],
   "source": [
    "products_after_initial_purchase_workflow = ProductsAfterInitialPurchaseWorkFlow()\n",
    "products_after_initial_purchase_workflow.runner()"
   ]
  }
 ],
 "metadata": {
  "language_info": {
   "name": "python"
  }
 },
 "nbformat": 4,
 "nbformat_minor": 5
}
