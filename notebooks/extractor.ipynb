{
 "cells": [
  {
   "cell_type": "code",
   "execution_count": null,
   "id": "41a8cff7",
   "metadata": {},
   "outputs": [],
   "source": [
    "%run \"./reader_factory\""
   ]
  },
  {
   "cell_type": "code",
   "execution_count": null,
   "id": "98a57060",
   "metadata": {},
   "outputs": [],
   "source": [
    "class Extractor():\n",
    "    \"\"\"\n",
    "    Abstract Class\n",
    "    \"\"\"\n",
    "    def __init__(self):\n",
    "        pass\n",
    "\n",
    "    def extract(self):\n",
    "        pass"
   ]
  },
  {
   "cell_type": "code",
   "execution_count": null,
   "id": "30ec6053",
   "metadata": {},
   "outputs": [],
   "source": [
    "class AirpodsAfterIphonesExtractor(Extractor):\n",
    "\n",
    "    def extract(self):\n",
    "        \"\"\"\n",
    "        Extract\n",
    "        \"\"\"\n",
    "        # transaction df\n",
    "        transaction_df = get_data_source(\n",
    "            file_path=\"dbfs:/FileStore/tables/Transaction_Updated.csv\"\n",
    "        ).get_df()\n",
    "\n",
    "        # customer df\n",
    "        customer_df = get_data_source(\n",
    "            file_path=\"default.Customer_Updated_delta\",\n",
    "            data_type=\"delta\"\n",
    "        ).get_df()\n",
    "\n",
    "        input_dfs = {\n",
    "            \"transaction_df\": transaction_df,\n",
    "            \"customer_df\": customer_df,\n",
    "        }\n",
    "        return input_dfs"
   ]
  },
  {
   "cell_type": "code",
   "execution_count": null,
   "id": "7664ad96",
   "metadata": {},
   "outputs": [],
   "source": [
    "class AirpodsAndIphonesExtractor(AirpodsAfterIphonesExtractor):\n",
    "    pass"
   ]
  },
  {
   "cell_type": "code",
   "execution_count": null,
   "id": "c75aa416",
   "metadata": {},
   "outputs": [],
   "source": [
    "class ProductsAfterInitialPurchaseExtractor(Extractor):\n",
    "\n",
    "    def extract(self):\n",
    "        \"\"\"\n",
    "        Extract\n",
    "        \"\"\"\n",
    "        # transaction df\n",
    "        transaction_df = get_data_source(\n",
    "            file_path=\"dbfs:/FileStore/tables/Transaction_Updated.csv\"\n",
    "        ).get_df()\n",
    "\n",
    "\n",
    "        # product df\n",
    "        product_df = get_data_source(\n",
    "            file_path=\"dbfs:/FileStore/tables/Products_Updated.csv\",\n",
    "        ).get_df()\n",
    "\n",
    "        input_dfs = {\n",
    "            \"transaction_df\": transaction_df,\n",
    "            \"product_df\": product_df,\n",
    "        }\n",
    "        return input_dfs"
   ]
  }
 ],
 "metadata": {
  "kernelspec": {
   "display_name": "waicy",
   "language": "python",
   "name": "python3"
  },
  "language_info": {
   "name": "python",
   "version": "3.11.10"
  }
 },
 "nbformat": 4,
 "nbformat_minor": 5
}
